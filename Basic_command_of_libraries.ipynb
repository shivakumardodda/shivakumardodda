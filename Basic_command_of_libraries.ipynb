{
  "nbformat": 4,
  "nbformat_minor": 0,
  "metadata": {
    "colab": {
      "provenance": [],
      "authorship_tag": "ABX9TyOT3fYEFi7jeDk2njZMAXKf",
      "include_colab_link": true
    },
    "kernelspec": {
      "name": "python3",
      "display_name": "Python 3"
    },
    "language_info": {
      "name": "python"
    }
  },
  "cells": [
    {
      "cell_type": "markdown",
      "metadata": {
        "id": "view-in-github",
        "colab_type": "text"
      },
      "source": [
        "<a href=\"https://colab.research.google.com/github/shivakumardodda/shivakumardodda/blob/main/Basic_command_of_libraries.ipynb\" target=\"_parent\"><img src=\"https://colab.research.google.com/assets/colab-badge.svg\" alt=\"Open In Colab\"/></a>"
      ]
    },
    {
      "cell_type": "code",
      "source": [],
      "metadata": {
        "id": "giuN1YtRtbEW"
      },
      "execution_count": null,
      "outputs": []
    },
    {
      "cell_type": "code",
      "execution_count": 78,
      "metadata": {
        "colab": {
          "base_uri": "https://localhost:8080/",
          "height": 1000
        },
        "id": "3R11huJLEc4G",
        "outputId": "81e002c3-f4fa-477c-e5b6-fd2a0fd9275e"
      },
      "outputs": [
        {
          "output_type": "stream",
          "name": "stdout",
          "text": [
            "            Univ   SAT  Top10  Accept  SFRatio  Expenses  GradRate\n",
            "0          Brown  1310     89      22       13     22704        94\n",
            "1        CalTech  1415    100      25        6     63575        81\n",
            "2            CMU  1260     62      59        9     25026        72\n",
            "3       Columbia  1310     76      24       12     31510        88\n",
            "4        Cornell  1280     83      33       13     21864        90\n",
            "5      Dartmouth  1340     89      23       10     32162        95\n",
            "6           Duke  1315     90      30       12     31585        95\n",
            "7     Georgetown  1255     74      24       12     20126        92\n",
            "8        Harvard  1400     91      14       11     39525        97\n",
            "9   JohnsHopkins  1305     75      44        7     58691        87\n",
            "10           MIT  1380     94      30       10     34870        91\n",
            "11  Northwestern  1260     85      39       11     28052        89\n",
            "12     NotreDame  1255     81      42       13     15122        94\n",
            "13     PennState  1081     38      54       18     10185        80\n",
            "14     Princeton  1375     91      14        8     30220        95\n",
            "15        Purdue  1005     28      90       19      9066        69\n",
            "16      Stanford  1360     90      20       12     36450        93\n",
            "17      TexasA&M  1075     49      67       25      8704        67\n",
            "18    UCBerkeley  1240     95      40       17     15140        78\n",
            "19      UChicago  1290     75      50       13     38380        87\n",
            "20     UMichigan  1180     65      68       16     15470        85\n",
            "21         UPenn  1285     80      36       11     27553        90\n",
            "22           UVA  1225     77      44       14     13349        92\n",
            "23    UWisconsin  1085     40      69       15     11857        71\n",
            "24          Yale  1375     95      19       11     43514        96\n"
          ]
        },
        {
          "output_type": "display_data",
          "data": {
            "text/plain": [
              "<Figure size 640x480 with 1 Axes>"
            ],
            "image/png": "[encoded data removed]"
          },
          "metadata": {}
        },
        {
          "output_type": "display_data",
          "data": {
            "text/plain": [
              "<Figure size 500x500 with 0 Axes>"
            ]
          },
          "metadata": {}
        },
        {
          "output_type": "error",
          "ename": "TypeError",
          "evalue": "'str' object is not callable",
          "traceback": [
            "\u001b[0;31m---------------------------------------------------------------------------\u001b[0m",
            "\u001b[0;31mTypeError\u001b[0m                                 Traceback (most recent call last)",
            "\u001b[0;32m<ipython-input-78-b2c30f4e347d>\u001b[0m in \u001b[0;36m<cell line: 20>\u001b[0;34m()\u001b[0m\n\u001b[1;32m     18\u001b[0m \u001b[0;31m#plt.figure(figsize=(2,2),color='green',edgecolor='black' )\u001b[0m\u001b[0;34m\u001b[0m\u001b[0;34m\u001b[0m\u001b[0m\n\u001b[1;32m     19\u001b[0m \u001b[0mplt\u001b[0m\u001b[0;34m.\u001b[0m\u001b[0mhist\u001b[0m\u001b[0;34m(\u001b[0m\u001b[0mdf\u001b[0m\u001b[0;34m[\u001b[0m\u001b[0;34m'Accept'\u001b[0m\u001b[0;34m]\u001b[0m\u001b[0;34m)\u001b[0m\u001b[0;34m\u001b[0m\u001b[0;34m\u001b[0m\u001b[0m\n\u001b[0;32m---> 20\u001b[0;31m \u001b[0mplt\u001b[0m\u001b[0;34m.\u001b[0m\u001b[0mxlabel\u001b[0m\u001b[0;34m(\u001b[0m\u001b[0;34m'Accept'\u001b[0m\u001b[0;34m)\u001b[0m\u001b[0;34m\u001b[0m\u001b[0;34m\u001b[0m\u001b[0m\n\u001b[0m\u001b[1;32m     21\u001b[0m \u001b[0mplt\u001b[0m\u001b[0;34m.\u001b[0m\u001b[0mylabel\u001b[0m\u001b[0;34m(\u001b[0m\u001b[0;34m'count'\u001b[0m\u001b[0;34m)\u001b[0m\u001b[0;34m\u001b[0m\u001b[0;34m\u001b[0m\u001b[0m\n\u001b[1;32m     22\u001b[0m \u001b[0mplt\u001b[0m\u001b[0;34m.\u001b[0m\u001b[0mtitle\u001b[0m\u001b[0;34m(\u001b[0m\u001b[0;34m'Histogram of Accept'\u001b[0m\u001b[0;34m)\u001b[0m\u001b[0;34m\u001b[0m\u001b[0;34m\u001b[0m\u001b[0m\n",
            "\u001b[0;31mTypeError\u001b[0m: 'str' object is not callable"
          ]
        },
        {
          "output_type": "display_data",
          "data": {
            "text/plain": [
              "<Figure size 640x480 with 1 Axes>"
            ],
            "image/png": "[encoded data removed]"
          },
          "metadata": {}
        }
      ],
      "source": [
        "#import basic libraries\n",
        "import pandas as pd\n",
        "import matplotlib.pyplot as plt\n",
        "import seaborn as sns\n",
        "df=pd.read_csv('Universities.csv')\n",
        "df\n",
        "print(df)\n",
        "#Histogram of the SAT\n",
        "import matplotlib.pyplot as plt\n",
        "plt.hist(df['SAT'])\n",
        "plt.xlabel('SAT')\n",
        "plt.ylabel('count')\n",
        "plt.title('histograme of SAT')\n",
        "#plt.figure(figsize=(8,8))\n",
        "plt.figure(figsize=(5,5))\n",
        "plt.show()\n",
        "#Histogram of the Accept\n",
        "#plt.figure(figsize=(2,2),color='green',edgecolor='black' )\n",
        "plt.hist(df['Accept'])\n",
        "plt.xlabel('Accept')\n",
        "plt.ylabel('count')\n",
        "plt.title('Histogram of Accept')\n",
        "plt.show()\n",
        "#importin seaborn libarary\n",
        "import seaborn as sns\n",
        "sns. histplot(df['Accept'])\n",
        "plt.xlabel('Accept')\n",
        "plt.ylabel('Frequency')\n",
        "plt.show()\n",
        "plt.plot(df['SAT'],df['Accept'],'bo')\n",
        "plt.xlabel('SAT')\n",
        "plt.ylabel('Accept')\n",
        "plt.title('scatterplot between SAT vs Accept')\n",
        "#help(plt.hist)\n",
        "#help(plt.plot)\n",
        "\n",
        "import warnings\n",
        "warnings.filterwarnings('ignore')\n",
        "sns.pairplot(df.iloc[:,1:])\n",
        "sns.pairplot(df.iloc[:,1:3])\n",
        "plt.show()\n",
        "\n",
        "import warnings\n",
        "#warnings.filterwarnin('ignore')\n",
        "sns.distplot(df['Accept'])\n",
        "sns.distplot(df['SAT'])\n",
        "plt.show()\n",
        "sns.distplot(df['SAT'])\n",
        "\n",
        "plt.figure(figsize=(8,8))\n",
        "plt.boxplot(df['Accept'],vert=False)\n",
        "plt.title('Boxplot of Accept')\n",
        "plt.show()\n",
        "\n",
        "plt.figure(figsize=(8,8))\n",
        "plt.boxplot(df['SAT'],vert=False)\n",
        "plt.xlabel=('SAT')\n",
        "plt.ylabel=('count')\n",
        "plt.title('Boxplot of SAT')\n",
        "plt.show()\n"
      ]
    },
    {
      "cell_type": "markdown",
      "source": [],
      "metadata": {
        "id": "4uoZISFKwBcn"
      }
    },
    {
      "cell_type": "markdown",
      "source": [],
      "metadata": {
        "id": "SDcjBjm3wBx-"
      }
    },
    {
      "cell_type": "code",
      "source": [],
      "metadata": {
        "collapsed": true,
        "id": "05iodQfovLBA"
      },
      "execution_count": null,
      "outputs": []
    },
    {
      "cell_type": "markdown",
      "source": [],
      "metadata": {
        "id": "vJAEqILY-Zoc"
      }
    },
    {
      "cell_type": "markdown",
      "source": [],
      "metadata": {
        "id": "WDwVlgvV-X7i"
      }
    },
    {
      "cell_type": "markdown",
      "source": [],
      "metadata": {
        "id": "VfXxgnxGwDgk"
      }
    },
    {
      "cell_type": "markdown",
      "source": [
        "can you create a histogram on df"
      ],
      "metadata": {
        "id": "2z_Ek6Eov7ku"
      }
    },
    {
      "cell_type": "code",
      "source": [],
      "metadata": {
        "collapsed": true,
        "id": "4svFwngJtndZ"
      },
      "execution_count": null,
      "outputs": []
    },
    {
      "cell_type": "markdown",
      "source": [],
      "metadata": {
        "id": "sRLXlIo9Egwk"
      }
    }
  ]
}